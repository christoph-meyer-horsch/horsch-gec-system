{
 "cells": [
  {
   "cell_type": "code",
   "execution_count": 2,
   "metadata": {},
   "outputs": [],
   "source": [
    "from sklearn.model_selection import train_test_split"
   ]
  },
  {
   "cell_type": "code",
   "execution_count": 5,
   "metadata": {},
   "outputs": [],
   "source": [
    "clines = []\n",
    "with open(\"H:/Bachelorarbeit/gec/gector/full_data/big_dataset/corr_sentences.txt\", \"r\", encoding=\"utf-8\") as cfile:\n",
    "    for line in cfile:\n",
    "        clines.append(line)"
   ]
  },
  {
   "cell_type": "code",
   "execution_count": 6,
   "metadata": {},
   "outputs": [],
   "source": [
    "flines = []\n",
    "with open(\"H:/Bachelorarbeit/gec/gector/full_data/big_dataset/incorr_sentences.txt\", \"r\", encoding=\"utf-8\") as ffile:\n",
    "    for line in ffile:\n",
    "        flines.append(line)"
   ]
  },
  {
   "cell_type": "code",
   "execution_count": 9,
   "metadata": {},
   "outputs": [],
   "source": [
    "X_train, X_test, y_train, y_test = train_test_split(flines, clines, test_size=0.25)\n",
    "full = [X_train, X_test, y_train, y_test]"
   ]
  },
  {
   "cell_type": "code",
   "execution_count": 12,
   "metadata": {},
   "outputs": [],
   "source": [
    "fnames = [\"X_train.txt\", \"X_test.txt\", \"y_train.txt\", \"y_test.txt\"]\n",
    "for i in range(len(full)):\n",
    "    with open(\"H:/Bachelorarbeit/gec/gector/full_data/big_dataset/\" + fnames[i], \"w\", encoding=\"utf-8\") as f:\n",
    "        for line in full[i]:\n",
    "            f.write(line)"
   ]
  },
  {
   "cell_type": "code",
   "execution_count": null,
   "metadata": {},
   "outputs": [],
   "source": []
  }
 ],
 "metadata": {
  "kernelspec": {
   "display_name": "Python 3",
   "language": "python",
   "name": "python3"
  },
  "language_info": {
   "codemirror_mode": {
    "name": "ipython",
    "version": 3
   },
   "file_extension": ".py",
   "mimetype": "text/x-python",
   "name": "python",
   "nbconvert_exporter": "python",
   "pygments_lexer": "ipython3",
   "version": "3.7.0"
  }
 },
 "nbformat": 4,
 "nbformat_minor": 4
}
