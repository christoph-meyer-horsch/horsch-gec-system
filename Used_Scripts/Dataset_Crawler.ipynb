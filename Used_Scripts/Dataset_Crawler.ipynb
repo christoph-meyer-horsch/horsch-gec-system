{
 "cells": [
  {
   "cell_type": "code",
   "execution_count": 1,
   "metadata": {},
   "outputs": [],
   "source": [
    "import pandas as pd\n",
    "import nltk"
   ]
  },
  {
   "cell_type": "code",
   "execution_count": 2,
   "metadata": {},
   "outputs": [],
   "source": [
    "sentences_list = []\n",
    "url = \"https://rjoeusazlntehyo.weclapp.com/webapp/view/common/login.page\"\n",
    "user = \"Martin.hofmann@horsch.com\"\n",
    "pwd = \"#FLOundMARTIN123\""
   ]
  },
  {
   "cell_type": "code",
   "execution_count": 3,
   "metadata": {},
   "outputs": [],
   "source": [
    "import spacy\n",
    "import de_core_news_lg\n",
    "nlp = de_core_news_lg.load()\n",
    "from selenium import webdriver\n",
    "driver = webdriver.Chrome()\n",
    "import time\n",
    "\n",
    "\n",
    "driver.get(url)\n",
    "\n",
    "time.sleep(2)\n",
    "\n",
    "mail = driver.find_element_by_id(\"loginForm:username\")\n",
    "password = driver.find_element_by_id(\"loginForm:password\")\n",
    "btn = driver.find_element_by_id(\"loginForm:loginButton\")\n",
    "\n",
    "mail.send_keys(user)\n",
    "\n",
    "time.sleep(2)\n",
    "\n",
    "password.send_keys(pwd)\n",
    "\n",
    "time.sleep(1)\n",
    "\n",
    "btn.click()"
   ]
  },
  {
   "cell_type": "code",
   "execution_count": 4,
   "metadata": {},
   "outputs": [],
   "source": [
    "time.sleep(2)\n",
    "\n",
    "url_overview = \"https://rjoeusazlntehyo.weclapp.com/webapp/view/ticketing/ticketOverview.page?mid=162\"\n",
    "\n",
    "driver.get(url_overview)"
   ]
  },
  {
   "cell_type": "code",
   "execution_count": 5,
   "metadata": {},
   "outputs": [],
   "source": [
    "time.sleep(2)"
   ]
  },
  {
   "cell_type": "code",
   "execution_count": 6,
   "metadata": {},
   "outputs": [],
   "source": [
    "for i in range(183):\n",
    "\n",
    "    tbody = driver.find_element_by_id(\"pageForm:ticketTable:tb\")\n",
    "    length = len(tbody.find_elements_by_tag_name(\"tr\"))\n",
    "    trs = tbody.find_elements_by_tag_name(\"tr\")\n",
    "\n",
    "    for tr in range(length):\n",
    "\n",
    "        td = trs[tr].find_elements_by_tag_name(\"td\")[3]\n",
    "        td.find_elements_by_tag_name(\"a\")[0].click()\n",
    "\n",
    "        time.sleep(2)\n",
    "        for element in driver.find_elements_by_tag_name(\"textarea\"):\n",
    "            if \"customAttributesTicketCommtextValue\" in element.get_attribute(\"id\"):\n",
    "                desc = element\n",
    "                doc = nlp(desc.get_attribute(\"innerHTML\"))\n",
    "                for token in doc:\n",
    "                    if(token.dep_ == \"ROOT\" and token.tag_.startswith(\"V\")):\n",
    "                        sentences_list.append(desc.get_attribute(\"innerHTML\"))\n",
    "                        break\n",
    "\n",
    "        time.sleep(2)\n",
    "\n",
    "        driver.get(url_overview)\n",
    "\n",
    "        time.sleep(2)\n",
    "\n",
    "        tbody = driver.find_element_by_id(\"pageForm:ticketTable:tb\")\n",
    "        trs = tbody.find_elements_by_tag_name(\"tr\")\n",
    "        \n",
    "    driver.find_elements_by_class_name(\"chevron_right\")[0].click()\n",
    "    \n",
    "    time.sleep(2)"
   ]
  },
  {
   "cell_type": "code",
   "execution_count": 7,
   "metadata": {},
   "outputs": [],
   "source": [
    "pd.DataFrame(sentences_list).to_csv(\"HORSCH_dataset.csv\", sep=\"\\t\", header=False, index=False) "
   ]
  },
  {
   "cell_type": "code",
   "execution_count": 8,
   "metadata": {},
   "outputs": [
    {
     "data": {
      "text/html": [
       "<div>\n",
       "<style scoped>\n",
       "    .dataframe tbody tr th:only-of-type {\n",
       "        vertical-align: middle;\n",
       "    }\n",
       "\n",
       "    .dataframe tbody tr th {\n",
       "        vertical-align: top;\n",
       "    }\n",
       "\n",
       "    .dataframe thead th {\n",
       "        text-align: right;\n",
       "    }\n",
       "</style>\n",
       "<table border=\"1\" class=\"dataframe\">\n",
       "  <thead>\n",
       "    <tr style=\"text-align: right;\">\n",
       "      <th></th>\n",
       "      <th>0</th>\n",
       "    </tr>\n",
       "  </thead>\n",
       "  <tbody>\n",
       "    <tr>\n",
       "      <th>0</th>\n",
       "      <td>Durch welches Ersatzteil kann der Hyd. Motor 95040011 ersetzt werden.</td>\n",
       "    </tr>\n",
       "    <tr>\n",
       "      <th>1</th>\n",
       "      <td>Beim Klappen kollidiert die Schnecke dementsprechend wir der Tank beschädigt</td>\n",
       "    </tr>\n",
       "    <tr>\n",
       "      <th>2</th>\n",
       "      <td>siehe auch MoBe Lfd. Nr. 288</td>\n",
       "    </tr>\n",
       "    <tr>\n",
       "      <th>3</th>\n",
       "      <td>Packeranbindung gerissen</td>\n",
       "    </tr>\n",
       "    <tr>\n",
       "      <th>4</th>\n",
       "      <td>Die Klauen und Mitnehmer des Schneckenantrieb verschleißen sehr schnell.</td>\n",
       "    </tr>\n",
       "    <tr>\n",
       "      <th>...</th>\n",
       "      <td>...</td>\n",
       "    </tr>\n",
       "    <tr>\n",
       "      <th>6718</th>\n",
       "      <td>Position Lichtleiste wird nicht geändert.</td>\n",
       "    </tr>\n",
       "    <tr>\n",
       "      <th>6719</th>\n",
       "      <td>(Themenliste 946)\\nVom Produktmanagement wurde festgelegt, dass die Ausleuchtung durch die LED-Leiste noch ausreichend ist.\\nModul für externe LED-Strahler ist in Konstruktion\\n</td>\n",
       "    </tr>\n",
       "    <tr>\n",
       "      <th>6720</th>\n",
       "      <td>BA in gedruckter form fehlt.</td>\n",
       "    </tr>\n",
       "    <tr>\n",
       "      <th>6721</th>\n",
       "      <td>TG III Federpaket bricht</td>\n",
       "    </tr>\n",
       "    <tr>\n",
       "      <th>6722</th>\n",
       "      <td>angesprochen Montags Meeting</td>\n",
       "    </tr>\n",
       "  </tbody>\n",
       "</table>\n",
       "<p>6723 rows × 1 columns</p>\n",
       "</div>"
      ],
      "text/plain": [
       "                                                                                                                                                                                      0\n",
       "0                                                                                                                 Durch welches Ersatzteil kann der Hyd. Motor 95040011 ersetzt werden.\n",
       "1                                                                                                          Beim Klappen kollidiert die Schnecke dementsprechend wir der Tank beschädigt\n",
       "2                                                                                                                                                          siehe auch MoBe Lfd. Nr. 288\n",
       "3                                                                                                                                                              Packeranbindung gerissen\n",
       "4                                                                                                              Die Klauen und Mitnehmer des Schneckenantrieb verschleißen sehr schnell.\n",
       "...                                                                                                                                                                                 ...\n",
       "6718                                                                                                                                          Position Lichtleiste wird nicht geändert.\n",
       "6719  (Themenliste 946)\\nVom Produktmanagement wurde festgelegt, dass die Ausleuchtung durch die LED-Leiste noch ausreichend ist.\\nModul für externe LED-Strahler ist in Konstruktion\\n\n",
       "6720                                                                                                                                                       BA in gedruckter form fehlt.\n",
       "6721                                                                                                                                                           TG III Federpaket bricht\n",
       "6722                                                                                                                                                      angesprochen Montags Meeting \n",
       "\n",
       "[6723 rows x 1 columns]"
      ]
     },
     "metadata": {},
     "output_type": "display_data"
    }
   ],
   "source": [
    "df = pd.DataFrame(sentences_list)\n",
    "\n",
    "from pandas import option_context\n",
    "\n",
    "with option_context('display.max_colwidth', 400):\n",
    "    display(df)"
   ]
  }
 ],
 "metadata": {
  "kernelspec": {
   "display_name": "Python 3",
   "language": "python",
   "name": "python3"
  },
  "language_info": {
   "codemirror_mode": {
    "name": "ipython",
    "version": 3
   },
   "file_extension": ".py",
   "mimetype": "text/x-python",
   "name": "python",
   "nbconvert_exporter": "python",
   "pygments_lexer": "ipython3",
   "version": "3.7.0"
  }
 },
 "nbformat": 4,
 "nbformat_minor": 4
}
